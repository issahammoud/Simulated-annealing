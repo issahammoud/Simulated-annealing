{
 "cells": [
  {
   "cell_type": "markdown",
   "metadata": {},
   "source": [
    "<div class=\"alert alert-info\">\n",
    "    <h2>Imports</h2>\n",
    "</div>"
   ]
  },
  {
   "cell_type": "code",
   "execution_count": 7,
   "metadata": {},
   "outputs": [],
   "source": [
    "import numpy as np"
   ]
  },
  {
   "cell_type": "markdown",
   "metadata": {},
   "source": [
    "<div class=\"alert alert-info\">\n",
    "    <h2>Generate random values - Alternative A</h2>\n",
    "</div>"
   ]
  },
  {
   "cell_type": "code",
   "execution_count": 8,
   "metadata": {},
   "outputs": [],
   "source": [
    "np.random.seed(int(np.random.uniform(0,10000)))\n",
    "\n",
    "def generate_rand_vector(S):\n",
    "    \"\"\"\n",
    "    generate a random vector x belonging to set S \n",
    "    with a uniform distribution.\n",
    "    \"\"\"\n",
    "\n",
    "    # generate a random value following a uniform \n",
    "    # distribution over each dimension of S.\n",
    "    x = [np.random.uniform(s[0],s[1]) for s in S]\n",
    "    \n",
    "    return x"
   ]
  },
  {
   "cell_type": "markdown",
   "metadata": {},
   "source": [
    "<div class=\"alert alert-info\">\n",
    "    <h2>Initialize</h2>\n",
    "</div>"
   ]
  },
  {
   "cell_type": "code",
   "execution_count": 9,
   "metadata": {},
   "outputs": [],
   "source": [
    "def init_c(f, S, m, ksi = 0.9):\n",
    "    \"\"\"\n",
    "    This function initializes the value of the control parameter c.\n",
    "    It returns the initial control paramter c0 and a realizable value x.\n",
    "    f is the objective function.\n",
    "    S is a 2D array representing the realizable values.\n",
    "    m is the number of trials.\n",
    "    ksi is the initial acceptance ratio.\n",
    "    \"\"\"\n",
    "    \n",
    "    # a list that should contain the positive \n",
    "    # deltas (f(y) - f(x))\n",
    "    delta = []\n",
    "    \n",
    "    # generate a value belonging to S\n",
    "    x = generate_rand_vector(S)\n",
    "    \n",
    "    # m is the number of trials \n",
    "    for i in range(m):\n",
    "        \n",
    "        # generate a value belonging to S\n",
    "        y = generate_rand_vector(S)\n",
    "        \n",
    "        deltaf = f(y) - f(x)\n",
    "        \n",
    "        if(deltaf > 0):\n",
    "            delta.append(deltaf)\n",
    "        \n",
    "        x = y\n",
    "      \n",
    "    delta = np.array(delta)\n",
    "    \n",
    "    # m2 is the number of trials with deltaf > 0\n",
    "    m2 = len(delta)\n",
    "    \n",
    "    # m1 is the number of trials with deltaf <= 0\n",
    "    m1 = m - m2\n",
    "    \n",
    "    delta_mean = np.mean(delta)\n",
    "    \n",
    "    # if m1 == m2, c0 will be infinity, and we are\n",
    "    # interested to have small m2 to get a high value of c0\n",
    "    \n",
    "    if(m1 == m2):\n",
    "        m2-=1\n",
    "        m1+=1\n",
    "        \n",
    "    c0 = delta_mean/np.log(m2/(m2*ksi + m1*(1 - ksi)))\n",
    "\n",
    "    return c0"
   ]
  },
  {
   "cell_type": "markdown",
   "metadata": {},
   "source": [
    "<div class=\"alert alert-info\">\n",
    "    <h2>Simulated Annealing algorithm</h2>\n",
    "</div>"
   ]
  },
  {
   "cell_type": "code",
   "execution_count": 10,
   "metadata": {},
   "outputs": [],
   "source": [
    "def SimulatedAnnealing(f,n,x):\n",
    "    \"\"\"\n",
    "    This function calculate the global optimun of\n",
    "    a function f defined over a set S, using the \n",
    "    simulated annealing algorithm.\n",
    "    \"\"\"\n",
    "    \n",
    "    S = np.ones((n,2))\n",
    "    \n",
    "    S[:,0] = -100\n",
    "    S[:,1] = 100\n",
    "    # get c0 for m = 50\n",
    "    c0 = init_c(f,S, 50)\n",
    "        \n",
    "    stopcriterion = False\n",
    "    \n",
    "    L0 = 100\n",
    "    \n",
    "    eps_s = 0.0001\n",
    "    \n",
    "    delta = 0.1\n",
    "    \n",
    "    c = c0\n",
    "    \n",
    "    # a list to stock the initial evaluations f(y's) for\n",
    "    # the first Markov chain. It is used for the stop criterion.\n",
    "    inital_Markov_chain_values = []\n",
    "    \n",
    "    inital_Markov_chain_values.append(f(x))\n",
    "    \n",
    "    # a boolean to indicate if the algorithm is in the first \n",
    "    # Markov chain or not.\n",
    "    first_chain = True\n",
    "    \n",
    "    previous_accepted_values = []\n",
    "    \n",
    "    \n",
    "    while(stopcriterion == False):\n",
    "        \n",
    "        # list of accepted values for each round.\n",
    "        accepted_values = []\n",
    "        \n",
    "#         accepted_values.append(f(x))\n",
    "        \n",
    "        for i in range(n*L0):\n",
    "            \n",
    "            y = generate_rand_vector(S)\n",
    "            \n",
    "            # This condition is used when the value of c = 0, \n",
    "            # because we can't divide by zero in the exponential term.\n",
    "            if(c == 0):\n",
    "                acc = 0\n",
    "            else :\n",
    "                acc = np.exp(-(f(y) - f(x))/c)\n",
    "        \n",
    "              \n",
    "            # acceptance criterion\n",
    "            if(f(y) - f(x) <= 0 or acc > np.random.rand()):\n",
    "                \n",
    "                x = y\n",
    "                                \n",
    "                accepted_values.append(f(y))\n",
    "                \n",
    "                # Save the first Markov chain\n",
    "                if(first_chain == True):\n",
    "                    \n",
    "                    inital_Markov_chain_values.append(f(y))\n",
    "        \n",
    "        # Test for the stop criterion if we are not in the first Markov chain\n",
    "        if(first_chain == False):\n",
    "            \n",
    "            # the term f(c0)(bar) in the paper\n",
    "            f_0= np.mean(inital_Markov_chain_values)\n",
    "            \n",
    "            # check if there are accpeted values because\n",
    "            # the np.mean will return nan in this case \n",
    "            if(len(accepted_values) == 0):\n",
    "                f_mean = 0\n",
    "            else :\n",
    "                f_mean = np.mean(accepted_values)\n",
    "                \n",
    "            # f_ is the term delta fs(c)/dc in the paper\n",
    "            f_ = (f_mean - np.mean(previous_accepted_values))/(c - previous_c)\n",
    "            \n",
    "            # check stop criterion\n",
    "            if(np.abs(f_ * c / f_0) < eps_s ):\n",
    "                stopcriterion = True\n",
    "            \n",
    "        if(len(accepted_values) != 0): \n",
    "            \n",
    "            previous_accepted_values = accepted_values\n",
    "            \n",
    "            previous_c = c\n",
    "        \n",
    "        # check if there are accpeted values because\n",
    "        # the np.std will return nan in this case \n",
    "        if(len(accepted_values) <= 1):\n",
    "            c = 0\n",
    "        else:\n",
    "            c = c/(1 + (c*np.log(1+delta))/(3*np.std(accepted_values)))\n",
    "            \n",
    "        \n",
    "        # a boolean to indicate that the algo terminated the first Markov chain\n",
    "        first_chain = False\n",
    "    \n",
    "    \n",
    "        \n",
    "    return np.mean(previous_accepted_values)"
   ]
  },
  {
   "cell_type": "markdown",
   "metadata": {},
   "source": [
    "<div class=\"alert alert-info\">\n",
    "    <h2>Test the algorithm on a simple parabola function</h2>\n",
    "</div>"
   ]
  },
  {
   "cell_type": "code",
   "execution_count": 11,
   "metadata": {},
   "outputs": [],
   "source": [
    "def parabola(X):\n",
    "    \"\"\"\n",
    "    A function to test the algorithm.\n",
    "    \"\"\"\n",
    "    r = 0\n",
    "    for x in X:\n",
    "        r+=x**2\n",
    "        \n",
    "    return np.sqrt(r)"
   ]
  },
  {
   "cell_type": "code",
   "execution_count": 12,
   "metadata": {},
   "outputs": [
    {
     "data": {
      "text/plain": [
       "13.701921436215864"
      ]
     },
     "execution_count": 12,
     "metadata": {},
     "output_type": "execute_result"
    }
   ],
   "source": [
    "SimulatedAnnealing(parabola,3,[95.0])"
   ]
  }
 ],
 "metadata": {
  "kernelspec": {
   "display_name": "Python 3",
   "language": "python",
   "name": "python3"
  },
  "language_info": {
   "codemirror_mode": {
    "name": "ipython",
    "version": 3
   },
   "file_extension": ".py",
   "mimetype": "text/x-python",
   "name": "python",
   "nbconvert_exporter": "python",
   "pygments_lexer": "ipython3",
   "version": "3.6.6"
  }
 },
 "nbformat": 4,
 "nbformat_minor": 2
}
